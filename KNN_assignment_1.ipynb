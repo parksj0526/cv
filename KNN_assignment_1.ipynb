{
  "nbformat": 4,
  "nbformat_minor": 0,
  "metadata": {
    "colab": {
      "provenance": [],
      "gpuType": "T4"
    },
    "kernelspec": {
      "name": "python3",
      "display_name": "Python 3"
    },
    "language_info": {
      "name": "python"
    }
  },
  "cells": [
    {
      "cell_type": "code",
      "source": [
        "# Cell 1: Import required libraries\n",
        "\n",
        "import numpy as np\n",
        "from collections import Counter\n",
        "from sklearn.metrics import accuracy_score, precision_score, recall_score, f1_score\n",
        "from sklearn.model_selection import train_test_split, KFold\n",
        "from torchvision.datasets import CIFAR10\n",
        "import torchvision.transforms as transforms\n",
        "import matplotlib.pyplot as plt"
      ],
      "metadata": {
        "id": "0Xnw1ROcDYKS"
      },
      "execution_count": 1,
      "outputs": []
    },
    {
      "cell_type": "code",
      "source": [
        "# Cell 2: Define KNearestNeighbor class\n",
        "# - Extended from lecture code\n",
        "# - Supports k > 1 neighbors with majority voting\n",
        "# - Supports distance metric: 'l1' (Manhattan) or 'l2' (Euclidean)\n",
        "# - Default metric is 'l2'\n",
        "\n",
        "# Usage example:\n",
        "#   knn = KNearestNeighbor(k=3, metric='l1')   # Manhattan distance\n",
        "#   knn.train(X_train, y_train)\n",
        "#   y_pred = knn.predict(X_test[:1000])\n",
        "#\n",
        "#   knn = KNearestNeighbor(k=5, metric='l2')   # Euclidean distance\n",
        "#   knn.train(X_train, y_train)\n",
        "#   y_pred = knn.predict(X_test[:1000])\n",
        "\n",
        "class KNearestNeighbor:\n",
        "    def __init__(self, k=1, metric='l2'):\n",
        "        self.k = k\n",
        "        self.metric = metric\n",
        "\n",
        "    def train(self, X, y):\n",
        "        self.Xtr = X\n",
        "        self.ytr = y\n",
        "\n",
        "    def compute_distance(self, x):\n",
        "        if self.metric == 'l1':\n",
        "            return np.sum(np.abs(self.Xtr - x), axis=1)\n",
        "        elif self.metric == 'l2':\n",
        "            return np.sum((self.Xtr - x) ** 2, axis=1)\n",
        "        else:\n",
        "            raise ValueError(\"Unsupported metric. Use 'l1' or 'l2'.\")\n",
        "\n",
        "    def predict(self, X):\n",
        "        num_test = X.shape[0]\n",
        "        Ypred = np.zeros(num_test, dtype=self.ytr.dtype)\n",
        "\n",
        "        for i in range(num_test):\n",
        "            distances = self.compute_distance(X[i])\n",
        "            nearest_idxs = np.argsort(distances)[:self.k]\n",
        "            nearest_labels = self.ytr[nearest_idxs]\n",
        "            Ypred[i] = Counter(nearest_labels).most_common(1)[0][0]\n",
        "\n",
        "        return Ypred\n"
      ],
      "metadata": {
        "id": "qhnObJEvDaGD"
      },
      "execution_count": 2,
      "outputs": []
    },
    {
      "cell_type": "code",
      "source": [
        "# Cell 3: Load and preprocess CIFAR-10 dataset\n",
        "# - Flatten images to vectors of size (3072,)\n",
        "# - Split into train and test arrays\n",
        "\n",
        "transform = transforms.Compose([transforms.ToTensor()])\n",
        "trainset = CIFAR10(root=\"./data\", train=True, download=True, transform=transform)\n",
        "testset = CIFAR10(root=\"./data\", train=False, download=True, transform=transform)\n",
        "\n",
        "X_train = trainset.data.reshape(len(trainset.data), -1)\n",
        "y_train = np.array(trainset.targets)\n",
        "X_test = testset.data.reshape(len(testset.data), -1)\n",
        "y_test = np.array(testset.targets)\n",
        "\n",
        "print(\"Train:\", X_train.shape, \"Test:\", X_test.shape)"
      ],
      "metadata": {
        "colab": {
          "base_uri": "https://localhost:8080/"
        },
        "id": "mhoJa3ARDfw2",
        "outputId": "45eafca5-c6d0-4dbb-b304-29ba8fafe70d"
      },
      "execution_count": 3,
      "outputs": [
        {
          "output_type": "stream",
          "name": "stderr",
          "text": [
            "100%|██████████| 170M/170M [00:02<00:00, 63.9MB/s]\n"
          ]
        },
        {
          "output_type": "stream",
          "name": "stdout",
          "text": [
            "Train: (50000, 3072) Test: (10000, 3072)\n"
          ]
        }
      ]
    },
    {
      "cell_type": "code",
      "source": [
        "# Cell 4: Train/Test split (Baseline)\n",
        "# - Use full training set for training\n",
        "# - Fix k=5 (a common default choice in KNN)\n",
        "# - Evaluate on a subset of the test set\n",
        "# - Report Accuracy, Precision, Recall, F1-score\n",
        "# - Purpose: Provide a baseline performance\n",
        "#   before tuning k with validation or CV\n",
        "\n",
        "knn = KNearestNeighbor(k=5)\n",
        "knn.train(X_train, y_train)\n",
        "y_pred = knn.predict(X_test[:2000])  # subset for speed\n",
        "\n",
        "print(\"== Train/Test Split (Baseline, k=5) ==\")\n",
        "print(\"Accuracy :\", accuracy_score(y_test[:2000], y_pred))\n",
        "print(\"Precision:\", precision_score(y_test[:2000], y_pred, average=\"macro\"))\n",
        "print(\"Recall   :\", recall_score(y_test[:2000], y_pred, average=\"macro\"))\n",
        "print(\"F1       :\", f1_score(y_test[:2000], y_pred, average=\"macro\"))\n"
      ],
      "metadata": {
        "colab": {
          "base_uri": "https://localhost:8080/"
        },
        "id": "6bSyHxPeEPv4",
        "outputId": "a0056cad-87ad-4952-83c9-0f28ae9880b1"
      },
      "execution_count": 4,
      "outputs": [
        {
          "output_type": "stream",
          "name": "stdout",
          "text": [
            "== Train/Test Split (Baseline, k=5) ==\n",
            "Accuracy : 0.2435\n",
            "Precision: 0.30254296396590263\n",
            "Recall   : 0.24187452238784563\n",
            "F1       : 0.22550695765777182\n"
          ]
        }
      ]
    },
    {
      "cell_type": "code",
      "source": [
        "# Cell 5: Train/Validation/Test split\n",
        "# - Split training set into train and validation\n",
        "# - Try different k values to tune hyperparameter\n",
        "# - Evaluate with Accuracy, Precision, Recall, F1 on validation set\n",
        "# - Select best k (highest validation accuracy)\n",
        "# - Purpose: Improve upon the baseline (Cell 4, fixed k=5)\n",
        "#            by choosing the optimal k using validation\n",
        "\n",
        "X_train_sub, X_val, y_train_sub, y_val = train_test_split(\n",
        "    X_train, y_train, test_size=0.2, random_state=42\n",
        ")\n",
        "\n",
        "best_k, best_acc = None, 0\n",
        "for k in [1, 3, 5, 7, 9]:\n",
        "    knn = KNearestNeighbor(k=k)\n",
        "    knn.train(X_train_sub, y_train_sub)\n",
        "    val_pred = knn.predict(X_val[:1000])\n",
        "\n",
        "    acc = accuracy_score(y_val[:1000], val_pred)\n",
        "    prec = precision_score(y_val[:1000], val_pred, average=\"macro\")\n",
        "    rec = recall_score(y_val[:1000], val_pred, average=\"macro\")\n",
        "    f1 = f1_score(y_val[:1000], val_pred, average=\"macro\")\n",
        "\n",
        "    print(f\"k={k}, Val -> Acc={acc:.4f}, Prec={prec:.4f}, Rec={rec:.4f}, F1={f1:.4f}\")\n",
        "\n",
        "    if acc > best_acc:\n",
        "        best_k, best_acc = k, acc\n",
        "\n",
        "print(\"Best k from validation:\", best_k)\n"
      ],
      "metadata": {
        "colab": {
          "base_uri": "https://localhost:8080/"
        },
        "id": "0zkRj1OaEeZ-",
        "outputId": "2b93aa17-d4db-41fe-900f-25949bad1265"
      },
      "execution_count": 5,
      "outputs": [
        {
          "output_type": "stream",
          "name": "stdout",
          "text": [
            "k=1, Val -> Acc=0.2410, Prec=0.2792, Rec=0.2514, F1=0.2291\n",
            "k=3, Val -> Acc=0.2560, Prec=0.3028, Rec=0.2677, F1=0.2402\n",
            "k=5, Val -> Acc=0.2400, Prec=0.2915, Rec=0.2527, F1=0.2183\n",
            "k=7, Val -> Acc=0.2370, Prec=0.2850, Rec=0.2507, F1=0.2106\n",
            "k=9, Val -> Acc=0.2310, Prec=0.2780, Rec=0.2451, F1=0.2039\n",
            "Best k from validation: 3\n"
          ]
        }
      ]
    },
    {
      "cell_type": "code",
      "source": [
        "# Cell 6: Final Test evaluation (best k)\n",
        "# - Retrain with full training set using best k (from Cell 5 validation)\n",
        "# - Evaluate on test set with Accuracy, Precision, Recall, F1\n",
        "# - Purpose: Compare final tuned performance against baseline (Cell 4, k=5)\n",
        "#            and confirm whether validation tuning improved results\n",
        "\n",
        "knn = KNearestNeighbor(k=best_k)\n",
        "knn.train(X_train, y_train)\n",
        "y_pred = knn.predict(X_test[:2000])\n",
        "\n",
        "print(\"== Final Test (best k) ==\")\n",
        "print(\"Accuracy :\", accuracy_score(y_test[:2000], y_pred))\n",
        "print(\"Precision:\", precision_score(y_test[:2000], y_pred, average=\"macro\"))\n",
        "print(\"Recall   :\", recall_score(y_test[:2000], y_pred, average=\"macro\"))\n",
        "print(\"F1       :\", f1_score(y_test[:2000], y_pred, average=\"macro\"))\n"
      ],
      "metadata": {
        "colab": {
          "base_uri": "https://localhost:8080/"
        },
        "id": "ewM5DJYiEwYf",
        "outputId": "8139e6e4-3326-4a05-e190-21acd287a8dd"
      },
      "execution_count": 6,
      "outputs": [
        {
          "output_type": "stream",
          "name": "stdout",
          "text": [
            "== Final Test (best k) ==\n",
            "Accuracy : 0.248\n",
            "Precision: 0.29836394192561166\n",
            "Recall   : 0.24632255818646062\n",
            "F1       : 0.23809628291259538\n"
          ]
        }
      ]
    },
    {
      "cell_type": "code",
      "source": [
        "# Cell 7: 5-Fold Cross Validation\n",
        "# - Perform k-fold CV with k values [1, 3, 5, 7, 9]\n",
        "# - Compute Accuracy, Precision, Recall, F1 for each fold\n",
        "# - Report mean and std across folds\n",
        "# - Purpose: Provide more reliable evaluation\n",
        "#            compared to baseline (Cell 4, fixed k=5)\n",
        "#            and validation split (Cell 5)\n",
        "\n",
        "kf = KFold(n_splits=5, shuffle=True, random_state=42)\n",
        "k_values = [1, 3, 5, 7, 9]\n",
        "\n",
        "acc_means, acc_stds = [], []\n",
        "prec_means, rec_means, f1_means = [], [], []\n",
        "\n",
        "for k in k_values:\n",
        "    acc_scores, prec_scores, rec_scores, f1_scores = [], [], [], []\n",
        "\n",
        "    for train_idx, val_idx in kf.split(X_train):\n",
        "        X_tr, X_val = X_train[train_idx], X_train[val_idx]\n",
        "        y_tr, y_val = y_train[train_idx], y_train[val_idx]\n",
        "\n",
        "        knn = KNearestNeighbor(k=k)\n",
        "        knn.train(X_tr, y_tr)\n",
        "        val_pred = knn.predict(X_val[:500])  # subset for speed\n",
        "\n",
        "        acc_scores.append(accuracy_score(y_val[:500], val_pred))\n",
        "        prec_scores.append(precision_score(y_val[:500], val_pred, average=\"macro\"))\n",
        "        rec_scores.append(recall_score(y_val[:500], val_pred, average=\"macro\"))\n",
        "        f1_scores.append(f1_score(y_val[:500], val_pred, average=\"macro\"))\n",
        "\n",
        "    acc_means.append(np.mean(acc_scores))\n",
        "    acc_stds.append(np.std(acc_scores))\n",
        "    prec_means.append(np.mean(prec_scores))\n",
        "    rec_means.append(np.mean(rec_scores))\n",
        "    f1_means.append(np.mean(f1_scores))\n",
        "\n",
        "    print(f\"k={k}, CV -> Acc={np.mean(acc_scores):.4f}, Prec={np.mean(prec_scores):.4f}, Rec={np.mean(rec_scores):.4f}, F1={np.mean(f1_scores):.4f}\")"
      ],
      "metadata": {
        "colab": {
          "base_uri": "https://localhost:8080/"
        },
        "id": "xbpGOI6jEn8Y",
        "outputId": "268f702a-39f9-4ebf-fb86-d1e7b33f8773"
      },
      "execution_count": 9,
      "outputs": [
        {
          "output_type": "stream",
          "name": "stdout",
          "text": [
            "k=1, CV -> Acc=0.2532, Prec=0.2940, Rec=0.2523, F1=0.2426\n",
            "k=3, CV -> Acc=0.2636, Prec=0.3078, Rec=0.2627, F1=0.2497\n",
            "k=5, CV -> Acc=0.2612, Prec=0.3192, Rec=0.2596, F1=0.2424\n",
            "k=7, CV -> Acc=0.2536, Prec=0.3184, Rec=0.2532, F1=0.2340\n",
            "k=9, CV -> Acc=0.2504, Prec=0.3225, Rec=0.2501, F1=0.2305\n"
          ]
        }
      ]
    },
    {
      "cell_type": "code",
      "source": [
        "plt.errorbar(k_values, acc_means, yerr=acc_stds, fmt='-o', capsize=5)\n",
        "plt.xlabel(\"k (neighbors)\")\n",
        "plt.ylabel(\"Accuracy (5-fold CV)\")\n",
        "plt.title(\"KNN on CIFAR-10\")\n",
        "plt.grid(True)\n",
        "plt.show()"
      ],
      "metadata": {
        "colab": {
          "base_uri": "https://localhost:8080/",
          "height": 472
        },
        "id": "u3kYYaDSHHXY",
        "outputId": "c8f537de-d319-4ea6-8eb6-5d9a5e3db80b"
      },
      "execution_count": 10,
      "outputs": [
        {
          "output_type": "display_data",
          "data": {
            "text/plain": [
              "<Figure size 640x480 with 1 Axes>"
            ],
            "image/png": "[encoded data removed]"
          },
          "metadata": {}
        }
      ]
    }
  ]
}